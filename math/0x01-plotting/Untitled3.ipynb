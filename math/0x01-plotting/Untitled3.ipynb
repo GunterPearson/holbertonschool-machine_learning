{
 "cells": [
  {
   "cell_type": "code",
   "execution_count": 6,
   "metadata": {},
   "outputs": [
    {
     "data": {
      "image/png": "[encoded data removed]",
      "text/plain": [
       "<Figure size 432x288 with 1 Axes>"
      ]
     },
     "metadata": {
      "needs_background": "light"
     },
     "output_type": "display_data"
    }
   ],
   "source": [
    "#!/usr/bin/env python3\n",
    "import numpy as np\n",
    "import matplotlib.pyplot as plt\n",
    "\n",
    "np.random.seed(5)\n",
    "# student_grades = np.random.normal(68, 15, 50)\n",
    "data = np.random.exponential(0.5, 100)\n",
    "# print(student_grades)\n",
    "# print(data)\n",
    "bins = range(0, 101, 10)\n",
    "\n",
    "plt.hist(data, edgecolor='black')\n",
    "# plt.xlabel('Grades')\n",
    "# plt.ylabel(\"Number of Students\")\n",
    "# plt.title(\"Project A\")\n",
    "# plt.xlim(0, 100)\n",
    "# plt.ylim(0, 30)\n",
    "# plt.xticks(bins)\n",
    "plt.show()"
   ]
  },
  {
   "cell_type": "code",
   "execution_count": null,
   "metadata": {},
   "outputs": [],
   "source": []
  }
 ],
 "metadata": {
  "kernelspec": {
   "display_name": "Python 3",
   "language": "python",
   "name": "python3"
  },
  "language_info": {
   "codemirror_mode": {
    "name": "ipython",
    "version": 3
   },
   "file_extension": ".py",
   "mimetype": "text/x-python",
   "name": "python",
   "nbconvert_exporter": "python",
   "pygments_lexer": "ipython3",
   "version": "3.8.5"
  }
 },
 "nbformat": 4,
 "nbformat_minor": 4
}
